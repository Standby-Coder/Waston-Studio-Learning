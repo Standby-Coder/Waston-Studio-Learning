{
    "cells": [
        {
            "metadata": {},
            "cell_type": "code",
            "source": "import pandas\nimport torch",
            "execution_count": 1,
            "outputs": []
        },
        {
            "metadata": {},
            "cell_type": "code",
            "source": "import tensorflow",
            "execution_count": 2,
            "outputs": []
        },
        {
            "metadata": {},
            "cell_type": "code",
            "source": "import keras",
            "execution_count": 3,
            "outputs": []
        },
        {
            "metadata": {},
            "cell_type": "markdown",
            "source": "# Test, Test, Test\n\n            but not a surprise test XDDD"
        },
        {
            "metadata": {},
            "cell_type": "code",
            "source": "\nimport os, types\nimport pandas as pd\nfrom botocore.client import Config\nimport ibm_boto3\n\ndef __iter__(self): return 0\n\n# @hidden_cell\n# The following code accesses a file in your IBM Cloud Object Storage. It includes your credentials.\n# You might want to remove those credentials before you share the notebook.\nclient_a5e183e79b9847b1a091fbc6c338e4bf = ibm_boto3.client(service_name='s3',\n    ibm_api_key_id='EgPbuODu7pAoU1j_eHsRiL_AQdU296G61Q9t17UCfzWR',\n    ibm_auth_endpoint=\"https://iam.cloud.ibm.com/oidc/token\",\n    config=Config(signature_version='oauth'),\n    endpoint_url='https://s3.private.eu.cloud-object-storage.appdomain.cloud')\n\nbody = client_a5e183e79b9847b1a091fbc6c338e4bf.get_object(Bucket='courseraproject-donotdelete-pr-dasjf9fjae5hbi',Key='jfk_weather_cleaned.csv')['Body']\n# add missing __iter__ method, so pandas accepts body as file-like object\nif not hasattr(body, \"__iter__\"): body.__iter__ = types.MethodType( __iter__, body )\n\ndf_data_1 = pd.read_csv(body)\ndf_data_1.head()\n# @hidden_cell\n# The following code contains the credentials for a file in your IBM Cloud Object Storage.\n# You might want to remove those credentials before you share your notebook.\ncredentials_1 = {\n    'IAM_SERVICE_ID': 'iam-ServiceId-f4a99b94-e0fc-48bc-a582-2de6e60e9b8b',\n    'IBM_API_KEY_ID': 'EgPbuODu7pAoU1j_eHsRiL_AQdU296G61Q9t17UCfzWR',\n    'ENDPOINT': 'https://s3.private.eu.cloud-object-storage.appdomain.cloud',\n    'IBM_AUTH_ENDPOINT': 'https://iam.cloud.ibm.com/oidc/token',\n    'BUCKET': 'courseraproject-donotdelete-pr-dasjf9fjae5hbi',\n    'FILE': 'jfk_weather_cleaned.csv'\n}",
            "execution_count": null,
            "outputs": []
        }
    ],
    "metadata": {
        "kernelspec": {
            "name": "python3",
            "display_name": "Python 3.9",
            "language": "python"
        },
        "language_info": {
            "name": "python",
            "version": "3.9.12",
            "mimetype": "text/x-python",
            "codemirror_mode": {
                "name": "ipython",
                "version": 3
            },
            "pygments_lexer": "ipython3",
            "nbconvert_exporter": "python",
            "file_extension": ".py"
        }
    },
    "nbformat": 4,
    "nbformat_minor": 1
}